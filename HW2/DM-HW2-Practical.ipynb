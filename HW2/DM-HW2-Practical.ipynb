{
 "cells": [
  {
   "cell_type": "markdown",
   "id": "e4e875a6-0490-4389-829f-a8bfd0979711",
   "metadata": {},
   "source": [
    "\n",
    "<h1 align=center style=\"line-height:300%;font-family:vazir;color:#0099cc\">\n",
    "<font face=\"vazir\" color=\"#0099cc\">\n",
    "سری دوم تمارین عملی درس داده کاوی\n",
    "</font>\n",
    "</h1>\n",
    "<h3 align=center style=\"line-height:100%;font-family:vazir;color:#0099cc\">\n",
    "استاد درس: دکتر مریم امیر مزلقانی\n",
    "</h3>\n",
    "<h5 align=center style=\"font-size: 20px;line-height:100%;font-family:vazir;color:#0099cc\">\n",
    "طراح تمرین عملی: محمد چوپان  \n",
    "    </h5>\n",
    "<p align=center style=\"font-size: 16;line-height:100%;font-family:vazir;color:#0099cc\">\n",
    "    <a href=\"mailto:Aut.DataMining.Fall@gmail.com\">Aut.DataMining.Fall@gmail.com</a>\n",
    "</p>\n"
   ]
  },
  {
   "cell_type": "markdown",
   "id": "4e4c200f-a461-453a-ba3a-9ea0b558ad95",
   "metadata": {},
   "source": [
    "<div dir=\"ltr\">\n",
    "<p style=\"font-size: 16;line-height:100%;font-family:vazir;color:red;dir:rtl\">\n",
    "لطفا خواسته های تمرین را در بخش خودش انجام دهید.\n",
    "دقت کنید نتایج مقایسه ها حتما باید در پاسخ شما وجود داشته باشد.\n",
    "</p>\n",
    "</div>"
   ]
  },
  {
   "cell_type": "markdown",
   "id": "a93d8c93-0f04-4968-80cb-f7f14dd3f9b4",
   "metadata": {},
   "source": [
    "# HW2"
   ]
  },
  {
   "cell_type": "markdown",
   "id": "fbc3183f-34af-4051-97f6-ce78134bf973",
   "metadata": {},
   "source": [
    "## Imports"
   ]
  },
  {
   "cell_type": "code",
   "execution_count": 13,
   "id": "811e5873-e438-4f82-96ae-3bf21c9236ee",
   "metadata": {},
   "outputs": [],
   "source": [
    "## TODO"
   ]
  },
  {
   "cell_type": "markdown",
   "id": "1eac2907-3789-45a1-841d-a3f543edaef6",
   "metadata": {},
   "source": [
    "## Load data"
   ]
  },
  {
   "cell_type": "markdown",
   "id": "4c327de4-e924-4cca-a1aa-ef0db30cf5ff",
   "metadata": {},
   "source": [
    "<div dir=\"rtl\">\n",
    "\n",
    "<p dir=rtl style=\"direction: rtl;text-align: justify;line-height:200%;font-family:vazir;font-size:medium\">\n",
    "<font face=\"vazir\" size=3>\n",
    "در این مرحله همانند تمرین قبلی داده ها را درون یک دیتا فریم pandas ذخیره میکنید\n",
    "</font>\n",
    "</p>\n",
    "</div>"
   ]
  },
  {
   "cell_type": "code",
   "execution_count": 14,
   "id": "0c104a97-be13-4918-95be-43f57de59d07",
   "metadata": {},
   "outputs": [],
   "source": [
    "## TODO"
   ]
  },
  {
   "cell_type": "markdown",
   "id": "993415e6-2590-4314-b4f7-0e60b8938171",
   "metadata": {},
   "source": [
    " ## Add column"
   ]
  },
  {
   "cell_type": "markdown",
   "id": "48cf5cfc-6c85-45af-abfd-3b15417d2b9f",
   "metadata": {},
   "source": [
    "<div dir=\"rtl\">\n",
    "\n",
    "<p dir=rtl style=\"direction: rtl;text-align: justify;line-height:200%;font-family:vazir;font-size:medium\">\n",
    "<font face=\"vazir\" size=3>\n",
    "در این مرحله با توجه به ستون جمعیت یک ستون جدید تحت عنوان Population Level   اضافه کنید به طوری که به 4 دسته زیر  بر اساس وضعیت هر داده اختصاص داده می شودند.\n",
    "</br>\n",
    "    <div dir=\"ltr\">\n",
    "Low: 0-25%\n",
    "    </br>\n",
    "Mid: 25-50%\n",
    "    </br>\n",
    "High: 50-70%\n",
    "    </br>\n",
    "Over: 70-100%\n",
    "    </div>\n",
    "</font>\n",
    "</p>\n",
    "</div>"
   ]
  },
  {
   "cell_type": "code",
   "execution_count": 15,
   "id": "1072ca6b-2077-4922-bc17-50d98f1a6563",
   "metadata": {},
   "outputs": [],
   "source": [
    "## TODO"
   ]
  },
  {
   "cell_type": "markdown",
   "id": "9a2da931-7aef-4ec8-9631-a7f84928a572",
   "metadata": {},
   "source": [
    "## Preproccess"
   ]
  },
  {
   "cell_type": "markdown",
   "id": "9896cb24-ac84-4bf7-986f-44e8dd46da7c",
   "metadata": {},
   "source": [
    "<div dir=\"rtl\">\n",
    "\n",
    "<p dir=rtl style=\"direction: rtl;text-align: justify;line-height:200%;font-family:vazir;font-size:medium\">\n",
    "<font face=\"vazir\" size=3>\n",
    "    در این بخش باید ستون های خالی داده ها راحذف کرده و در نهایت تمامی ستون ها را به داده های عددی تبدیل کنید به جز ستون اضافه شده\n",
    "</font>\n",
    "</p>\n",
    "</div>"
   ]
  },
  {
   "cell_type": "code",
   "execution_count": 16,
   "id": "926e1b30-615a-4e8a-a9ee-27b5c91ff627",
   "metadata": {},
   "outputs": [],
   "source": [
    "# TODO"
   ]
  },
  {
   "cell_type": "markdown",
   "id": "29659ac3-64d9-49be-b3cc-3161735608d2",
   "metadata": {},
   "source": [
    "<div dir=\"rtl\">\n",
    "\n",
    "<p dir=rtl style=\"direction: rtl;text-align: justify;line-height:200%;font-family:vazir;font-size:medium\">\n",
    "<font face=\"vazir\" size=3>\n",
    " حال باید داده های به دست آمده از قسمت قبلی را نرمال سازی کنید.\n",
    "</font>\n",
    "</p>\n",
    "</div>"
   ]
  },
  {
   "cell_type": "code",
   "execution_count": 17,
   "id": "81cf9e8d-690c-40e0-bd4b-7332c00fea75",
   "metadata": {},
   "outputs": [],
   "source": [
    "# TODO"
   ]
  },
  {
   "cell_type": "markdown",
   "id": "ec0e35d0-8209-45c5-9d34-6156d33010d9",
   "metadata": {},
   "source": [
    "## Split"
   ]
  },
  {
   "cell_type": "markdown",
   "id": "9d9b892a-d9c5-4bdf-93b1-04f93d09479c",
   "metadata": {},
   "source": [
    "<div dir=\"rtl\">\n",
    "\n",
    "<p dir=rtl style=\"direction: rtl;text-align: justify;line-height:200%;font-family:vazir;font-size:medium\">\n",
    "<font face=\"vazir\" size=3>\n",
    "داده ها را به دو بخش تست و آموزش با نسبت 80 به 20 تقسیم کنید.\n",
    "</font>\n",
    "</p>\n",
    "</div>"
   ]
  },
  {
   "cell_type": "code",
   "execution_count": 19,
   "id": "4f662ca8-ed93-4d18-a7f4-f887f9bdbbdc",
   "metadata": {},
   "outputs": [],
   "source": [
    "# TODO"
   ]
  },
  {
   "cell_type": "markdown",
   "id": "134641a2-081d-44f1-adc0-95f0b8f1c38b",
   "metadata": {},
   "source": [
    "## Regression"
   ]
  },
  {
   "cell_type": "markdown",
   "id": "e9cf9c80-7547-4c95-84e7-a9093a8ff6ba",
   "metadata": {},
   "source": [
    "<div dir=\"rtl\">\n",
    "\n",
    "<p dir=rtl style=\"direction: rtl;text-align: justify;line-height:200%;font-family:vazir;font-size:medium\">\n",
    "<font face=\"vazir\" size=3>\n",
    "برای این قسمت باید ستون Population  را به عنوان برچسب درنظر گرفته و از بقیه ستون هابه عنوان فیچر استفاده کنید\n",
    "</font\n",
    "</p>\n",
    "</div>\n",
    "\n",
    "<div dir=\"rtl\">\n",
    "<p dir=rtl style=\"direction: rtl;text-align: justify;line-height:200%;font-family:vazir;font-size:medium\">\n",
    "<font face=\"vazir\" size=3>\n",
    "باید از رگرسیون خطی\n",
    "،درجه 1 و درجه 2 استفاده کرده و در هر مورد دقت و خطای میانگین مربعات را بدست آورده و نتایج را باهم مقایسه کنید.</font\n",
    "</p>\n",
    "    \n",
    "</div>"
   ]
  },
  {
   "cell_type": "code",
   "execution_count": 20,
   "id": "d86ab34a-c2a0-4de9-953e-875a6c5a8e19",
   "metadata": {},
   "outputs": [],
   "source": [
    "# TODO"
   ]
  },
  {
   "cell_type": "markdown",
   "id": "32ab615d-f77d-4e93-bbd9-a7c58845be79",
   "metadata": {},
   "source": [
    "## Classification"
   ]
  },
  {
   "cell_type": "markdown",
   "id": "0cfc1ba8-be9d-4a68-8911-f8cb4369e321",
   "metadata": {},
   "source": [
    "<div dir=\"rtl\">\n",
    "\n",
    "<p dir=rtl style=\"direction: rtl;text-align: justify;line-height:200%;font-family:vazir;font-size:medium\">\n",
    "<font face=\"vazir\" size=3>\n",
    "برای این قسمت باید ستون Population Level  را به عنوان برچسب درنظر گرفته و از بقیه ستون هابه عنوان فیچر استفاده کنید\n",
    "همچنین ستون Population را نیز حذف کنید\n",
    "    </font>\n",
    "</p>\n",
    "</div>\n",
    "\n",
    "<div dir=\"rtl\">\n",
    "<p dir=rtl style=\"direction: rtl;text-align: justify;line-height:200%;font-family:vazir;font-size:medium\">\n",
    "در هر فسمت باید الگوریتم مشخص شده را پیاده سازی کرده و درنهایت نتیجه را با بقیه قسمت ها مقایسه کنید.\n",
    "    \n",
    "</p>\n",
    "    \n",
    "</div>"
   ]
  },
  {
   "cell_type": "markdown",
   "id": "17aab964-d818-41c2-9085-e3dc6fb736a9",
   "metadata": {},
   "source": [
    "### Decision Tree (Entropy)"
   ]
  },
  {
   "cell_type": "code",
   "execution_count": 21,
   "id": "b3d67df5-dcb3-4384-a826-37d521e45fde",
   "metadata": {},
   "outputs": [],
   "source": [
    "# TODO"
   ]
  },
  {
   "cell_type": "markdown",
   "id": "e78e36a4-db5f-4575-b4bf-adbe415a3608",
   "metadata": {},
   "source": [
    "### Random Forest (Entropy)"
   ]
  },
  {
   "cell_type": "code",
   "execution_count": 22,
   "id": "1a300801-83f0-4a99-8f8f-5912f5915379",
   "metadata": {},
   "outputs": [],
   "source": [
    "# TODO"
   ]
  },
  {
   "cell_type": "markdown",
   "id": "ca6e9942-7d04-4851-aa31-42926bc4a2f2",
   "metadata": {},
   "source": [
    "### KNN K=2"
   ]
  },
  {
   "cell_type": "code",
   "execution_count": 23,
   "id": "295dd113-5946-42a5-a97f-d730c58f1f0c",
   "metadata": {},
   "outputs": [],
   "source": [
    "# TODO"
   ]
  },
  {
   "cell_type": "markdown",
   "id": "99ad964b-2f5c-45d0-b2aa-c4c785d5e711",
   "metadata": {},
   "source": [
    "### KNN K=3"
   ]
  },
  {
   "cell_type": "code",
   "execution_count": 24,
   "id": "180e81db-71ed-4e75-8b5f-41da93d5498f",
   "metadata": {},
   "outputs": [],
   "source": [
    "# TODO"
   ]
  },
  {
   "cell_type": "markdown",
   "id": "75073d5c-6704-4b5c-93e8-8c72e4ef69f2",
   "metadata": {},
   "source": [
    "### KNN K=5"
   ]
  },
  {
   "cell_type": "code",
   "execution_count": 25,
   "id": "b5c76909-ab69-4b03-8919-b372dace8feb",
   "metadata": {},
   "outputs": [],
   "source": [
    "# TODO"
   ]
  },
  {
   "cell_type": "markdown",
   "id": "2531fe89-c5b3-4fe5-8efa-a7f141f8e61e",
   "metadata": {},
   "source": [
    "### SVM (Linear)"
   ]
  },
  {
   "cell_type": "code",
   "execution_count": 26,
   "id": "eeb52dae-48cb-4785-beaf-c8a6069986c2",
   "metadata": {},
   "outputs": [],
   "source": [
    "# TODO"
   ]
  },
  {
   "cell_type": "markdown",
   "id": "d99d0a22-f302-497b-9c84-ef028e0bb9b2",
   "metadata": {},
   "source": [
    "### SVM (Non-linear)"
   ]
  },
  {
   "cell_type": "code",
   "execution_count": 27,
   "id": "decea248-30f7-4fbe-8119-5da191d51f58",
   "metadata": {},
   "outputs": [],
   "source": [
    "# TODO"
   ]
  }
 ],
 "metadata": {
  "kernelspec": {
   "display_name": "Python 3 (ipykernel)",
   "language": "python",
   "name": "python3"
  },
  "language_info": {
   "codemirror_mode": {
    "name": "ipython",
    "version": 3
   },
   "file_extension": ".py",
   "mimetype": "text/x-python",
   "name": "python",
   "nbconvert_exporter": "python",
   "pygments_lexer": "ipython3",
   "version": "3.10.12"
  }
 },
 "nbformat": 4,
 "nbformat_minor": 5
}
